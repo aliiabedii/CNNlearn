{
  "nbformat": 4,
  "nbformat_minor": 0,
  "metadata": {
    "colab": {
      "provenance": [],
      "authorship_tag": "ABX9TyMoGwwF4XgP+X2X1Jf1vpiR",
      "include_colab_link": true
    },
    "kernelspec": {
      "name": "python3",
      "display_name": "Python 3"
    },
    "language_info": {
      "name": "python"
    }
  },
  "cells": [
    {
      "cell_type": "markdown",
      "metadata": {
        "id": "view-in-github",
        "colab_type": "text"
      },
      "source": [
        "<a href=\"https://colab.research.google.com/github/aliiabedii/CNNlearn/blob/main/maktabkhooneh_ch2_02.ipynb\" target=\"_parent\"><img src=\"https://colab.research.google.com/assets/colab-badge.svg\" alt=\"Open In Colab\"/></a>"
      ]
    },
    {
      "cell_type": "code",
      "source": [
        "pip install scikeras[tensorflow]\n"
      ],
      "metadata": {
        "id": "EmHakfKN59pL"
      },
      "execution_count": null,
      "outputs": []
    },
    {
      "cell_type": "code",
      "execution_count": 28,
      "metadata": {
        "id": "g52r5sdK1wcC"
      },
      "outputs": [],
      "source": [
        "import tensorflow as tf\n",
        "from tensorflow import keras\n",
        "from sklearn.datasets import fetch_california_housing\n",
        "from sklearn.model_selection import train_test_split\n",
        "from sklearn.preprocessing import StandardScaler\n",
        "from sklearn.model_selection import GridSearchCV\n",
        "from keras.wrappers.scikit_learn import KerasRegressor\n",
        "\n",
        "\n",
        "\n",
        "import matplotlib.pyplot as plt\n",
        "import numpy as np"
      ]
    },
    {
      "cell_type": "markdown",
      "source": [
        "split data into train and test"
      ],
      "metadata": {
        "id": "zgNN_dcn51dw"
      }
    },
    {
      "cell_type": "code",
      "source": [
        "california_housing = fetch_california_housing()\n",
        "X_train0, X_test, y_train0, y_train = train_test_split(\n",
        "                          california_housing[\"data\"],\n",
        "                          california_housing[\"target\"])\n"
      ],
      "metadata": {
        "id": "MYUHYObo3gtm"
      },
      "execution_count": 2,
      "outputs": []
    },
    {
      "cell_type": "markdown",
      "source": [
        "split train data into traindata and validation"
      ],
      "metadata": {
        "id": "zHmgLIiv5vVt"
      }
    },
    {
      "cell_type": "code",
      "source": [
        "california_housing = fetch_california_housing()\n",
        "X_train1, X_validation, y_train1, y_validation = train_test_split(\n",
        "                          X_train0,\n",
        "                          y_train0)"
      ],
      "metadata": {
        "id": "OBCiBeM9309R"
      },
      "execution_count": 3,
      "outputs": []
    },
    {
      "cell_type": "code",
      "source": [
        "X_test.shape\n",
        "X_train0.shape\n",
        "X_train1.shape"
      ],
      "metadata": {
        "colab": {
          "base_uri": "https://localhost:8080/"
        },
        "id": "iyeck3X85QEe",
        "outputId": "3b6130bd-ff85-4861-be9d-02258e7def14"
      },
      "execution_count": 4,
      "outputs": [
        {
          "output_type": "execute_result",
          "data": {
            "text/plain": [
              "(11610, 8)"
            ]
          },
          "metadata": {},
          "execution_count": 4
        }
      ]
    },
    {
      "cell_type": "code",
      "source": [
        "sc = StandardScaler()\n",
        "X_train_s = sc.fit_transform(X_train1)\n",
        "X_validation_s = sc.transform(X_validation)\n",
        "X_test_s = sc.transform(X_test)\n"
      ],
      "metadata": {
        "id": "S95k-1d56Ef9"
      },
      "execution_count": 5,
      "outputs": []
    },
    {
      "cell_type": "markdown",
      "source": [
        "define layers an neurons"
      ],
      "metadata": {
        "id": "8LJo5xdS_RfF"
      }
    },
    {
      "cell_type": "code",
      "source": [
        "model = keras.models.Sequential([\n",
        "    keras.layers.Dense(50,activation = \"relu\"),\n",
        "    keras.layers.Dense(10,activation = \"relu\"),\n",
        "    keras.layers.Dense(1)\n",
        "])"
      ],
      "metadata": {
        "id": "0fX3pvqf-SNS"
      },
      "execution_count": 6,
      "outputs": []
    },
    {
      "cell_type": "markdown",
      "source": [
        "complie the model"
      ],
      "metadata": {
        "id": "oD6hjGae_Z3G"
      }
    },
    {
      "cell_type": "code",
      "source": [
        "model.compile(loss=\"mean_squared_error\",\n",
        "              optimizer = \"sgd\",\n",
        "              metrics=[\"mean_absolute_error\"])"
      ],
      "metadata": {
        "id": "ROzBRNfq_dpS"
      },
      "execution_count": 7,
      "outputs": []
    },
    {
      "cell_type": "code",
      "source": [
        "model.fit(X_train_s, y_train1,\n",
        "          epochs=30, validation_data=(X_validation_s, y_validation)\n",
        "\n",
        ")"
      ],
      "metadata": {
        "colab": {
          "base_uri": "https://localhost:8080/"
        },
        "id": "K-g1IHIXAY_j",
        "outputId": "96892ad6-d064-4265-97fa-aed69f3db80e"
      },
      "execution_count": 8,
      "outputs": [
        {
          "output_type": "stream",
          "name": "stdout",
          "text": [
            "Epoch 1/30\n",
            "363/363 [==============================] - 1s 2ms/step - loss: 1.0003 - mean_absolute_error: 0.6515 - val_loss: 0.5688 - val_mean_absolute_error: 0.5385\n",
            "Epoch 2/30\n",
            "363/363 [==============================] - 1s 2ms/step - loss: 0.4901 - mean_absolute_error: 0.5048 - val_loss: 0.4632 - val_mean_absolute_error: 0.4935\n",
            "Epoch 3/30\n",
            "363/363 [==============================] - 1s 2ms/step - loss: 0.4244 - mean_absolute_error: 0.4684 - val_loss: 0.4305 - val_mean_absolute_error: 0.4737\n",
            "Epoch 4/30\n",
            "363/363 [==============================] - 1s 1ms/step - loss: 0.3958 - mean_absolute_error: 0.4516 - val_loss: 0.3986 - val_mean_absolute_error: 0.4505\n",
            "Epoch 5/30\n",
            "363/363 [==============================] - 1s 1ms/step - loss: 0.3850 - mean_absolute_error: 0.4452 - val_loss: 0.3922 - val_mean_absolute_error: 0.4470\n",
            "Epoch 6/30\n",
            "363/363 [==============================] - 1s 1ms/step - loss: 0.3771 - mean_absolute_error: 0.4401 - val_loss: 0.3824 - val_mean_absolute_error: 0.4402\n",
            "Epoch 7/30\n",
            "363/363 [==============================] - 1s 2ms/step - loss: 0.3698 - mean_absolute_error: 0.4357 - val_loss: 0.3811 - val_mean_absolute_error: 0.4389\n",
            "Epoch 8/30\n",
            "363/363 [==============================] - 1s 2ms/step - loss: 0.3629 - mean_absolute_error: 0.4307 - val_loss: 0.3721 - val_mean_absolute_error: 0.4327\n",
            "Epoch 9/30\n",
            "363/363 [==============================] - 1s 1ms/step - loss: 0.3569 - mean_absolute_error: 0.4266 - val_loss: 0.3712 - val_mean_absolute_error: 0.4283\n",
            "Epoch 10/30\n",
            "363/363 [==============================] - 1s 2ms/step - loss: 0.3519 - mean_absolute_error: 0.4234 - val_loss: 0.3645 - val_mean_absolute_error: 0.4297\n",
            "Epoch 11/30\n",
            "363/363 [==============================] - 1s 1ms/step - loss: 0.3482 - mean_absolute_error: 0.4211 - val_loss: 0.3705 - val_mean_absolute_error: 0.4216\n",
            "Epoch 12/30\n",
            "363/363 [==============================] - 1s 1ms/step - loss: 0.3433 - mean_absolute_error: 0.4176 - val_loss: 0.3585 - val_mean_absolute_error: 0.4272\n",
            "Epoch 13/30\n",
            "363/363 [==============================] - 1s 1ms/step - loss: 0.3399 - mean_absolute_error: 0.4162 - val_loss: 0.3626 - val_mean_absolute_error: 0.4181\n",
            "Epoch 14/30\n",
            "363/363 [==============================] - 1s 2ms/step - loss: 0.3363 - mean_absolute_error: 0.4115 - val_loss: 0.3534 - val_mean_absolute_error: 0.4239\n",
            "Epoch 15/30\n",
            "363/363 [==============================] - 1s 2ms/step - loss: 0.3338 - mean_absolute_error: 0.4115 - val_loss: 0.3486 - val_mean_absolute_error: 0.4172\n",
            "Epoch 16/30\n",
            "363/363 [==============================] - 1s 3ms/step - loss: 0.3285 - mean_absolute_error: 0.4072 - val_loss: 0.3480 - val_mean_absolute_error: 0.4207\n",
            "Epoch 17/30\n",
            "363/363 [==============================] - 1s 4ms/step - loss: 0.3262 - mean_absolute_error: 0.4047 - val_loss: 0.3400 - val_mean_absolute_error: 0.4084\n",
            "Epoch 18/30\n",
            "363/363 [==============================] - 1s 3ms/step - loss: 0.3225 - mean_absolute_error: 0.4023 - val_loss: 0.3445 - val_mean_absolute_error: 0.4073\n",
            "Epoch 19/30\n",
            "363/363 [==============================] - 1s 3ms/step - loss: 0.3208 - mean_absolute_error: 0.4006 - val_loss: 0.3397 - val_mean_absolute_error: 0.4139\n",
            "Epoch 20/30\n",
            "363/363 [==============================] - 1s 3ms/step - loss: 0.3182 - mean_absolute_error: 0.3993 - val_loss: 0.3378 - val_mean_absolute_error: 0.4026\n",
            "Epoch 21/30\n",
            "363/363 [==============================] - 1s 2ms/step - loss: 0.3153 - mean_absolute_error: 0.3972 - val_loss: 0.3407 - val_mean_absolute_error: 0.4134\n",
            "Epoch 22/30\n",
            "363/363 [==============================] - 1s 3ms/step - loss: 0.3160 - mean_absolute_error: 0.3968 - val_loss: 0.3325 - val_mean_absolute_error: 0.4006\n",
            "Epoch 23/30\n",
            "363/363 [==============================] - 1s 3ms/step - loss: 0.3126 - mean_absolute_error: 0.3939 - val_loss: 0.3406 - val_mean_absolute_error: 0.4172\n",
            "Epoch 24/30\n",
            "363/363 [==============================] - 1s 3ms/step - loss: 0.3124 - mean_absolute_error: 0.3938 - val_loss: 0.3328 - val_mean_absolute_error: 0.3974\n",
            "Epoch 25/30\n",
            "363/363 [==============================] - 1s 3ms/step - loss: 0.3105 - mean_absolute_error: 0.3922 - val_loss: 0.3325 - val_mean_absolute_error: 0.4002\n",
            "Epoch 26/30\n",
            "363/363 [==============================] - 1s 3ms/step - loss: 0.3086 - mean_absolute_error: 0.3903 - val_loss: 0.3422 - val_mean_absolute_error: 0.4107\n",
            "Epoch 27/30\n",
            "363/363 [==============================] - 1s 4ms/step - loss: 0.3077 - mean_absolute_error: 0.3911 - val_loss: 0.3393 - val_mean_absolute_error: 0.3996\n",
            "Epoch 28/30\n",
            "363/363 [==============================] - 2s 5ms/step - loss: 0.3063 - mean_absolute_error: 0.3881 - val_loss: 0.3281 - val_mean_absolute_error: 0.3945\n",
            "Epoch 29/30\n",
            "363/363 [==============================] - 1s 3ms/step - loss: 0.3066 - mean_absolute_error: 0.3880 - val_loss: 0.3323 - val_mean_absolute_error: 0.4039\n",
            "Epoch 30/30\n",
            "363/363 [==============================] - 1s 3ms/step - loss: 0.3032 - mean_absolute_error: 0.3865 - val_loss: 0.3265 - val_mean_absolute_error: 0.3939\n"
          ]
        },
        {
          "output_type": "execute_result",
          "data": {
            "text/plain": [
              "<keras.src.callbacks.History at 0x7d4e7ec84df0>"
            ]
          },
          "metadata": {},
          "execution_count": 8
        }
      ]
    },
    {
      "cell_type": "markdown",
      "source": [
        "# functional API"
      ],
      "metadata": {
        "id": "F_ekmKjgNfpU"
      }
    },
    {
      "cell_type": "code",
      "source": [
        "X_train0.shape[1:]"
      ],
      "metadata": {
        "colab": {
          "base_uri": "https://localhost:8080/"
        },
        "id": "crPgc5PARlwO",
        "outputId": "fab65898-4fa1-462a-c9ae-ca81f40232c9"
      },
      "execution_count": 9,
      "outputs": [
        {
          "output_type": "execute_result",
          "data": {
            "text/plain": [
              "(8,)"
            ]
          },
          "metadata": {},
          "execution_count": 9
        }
      ]
    },
    {
      "cell_type": "code",
      "source": [
        "X_train_s_1, X_train_s_2 = X_train_s[:,:6],X_train_s[:, -4:]\n",
        "X_validation_s_1, X_validation_s_2 = X_validation_s[:,:6],X_validation_s[:,-4:]\n",
        "X_test_s_1, X_test_s_2 = X_test_s[:,:6],X_test_s[:,-4:]\n"
      ],
      "metadata": {
        "id": "jaqVtDP5gtto"
      },
      "execution_count": 10,
      "outputs": []
    },
    {
      "cell_type": "markdown",
      "source": [],
      "metadata": {
        "id": "9wJ91IWIiQOK"
      }
    },
    {
      "cell_type": "code",
      "source": [
        "input_1 = tf.keras.layers.Input(shape=[6])\n",
        "input_2 = tf.keras.layers.Input(shape=[4])\n",
        "hidden_layer1 = tf.keras.layers.Dense(50, activation=\"relu\")(input_1)\n",
        "hidden_layer2 = tf.keras.layers.Dense(10, activation=\"relu\")(hidden_layer1)\n",
        "concatinate_layer = tf.keras.layers.Concatenate()([input_2, hidden_layer2])\n",
        "output = tf.keras.layers.Dense(1)(concatinate_layer)\n",
        "model = tf.keras.Model(inputs = [input_1,input_2],outputs=[output])"
      ],
      "metadata": {
        "id": "OJB2T1FYNfkZ"
      },
      "execution_count": 11,
      "outputs": []
    },
    {
      "cell_type": "code",
      "source": [
        "model.compile(loss=\"mean_squared_error\",\n",
        "              optimizer = \"sgd\",\n",
        "              metrics=[\"mean_absolute_error\"])"
      ],
      "metadata": {
        "id": "N4LC3b4xbCwA"
      },
      "execution_count": 12,
      "outputs": []
    },
    {
      "cell_type": "code",
      "source": [
        "model.fit((X_train_s_1,X_train_s_2), y_train1,\n",
        "          epochs=30, validation_data=((X_validation_s_1,X_validation_s_2), y_validation))"
      ],
      "metadata": {
        "colab": {
          "base_uri": "https://localhost:8080/"
        },
        "id": "AtLXeRbVbG0V",
        "outputId": "da5b643a-3986-4560-9f7a-de2f4f0e0d0c"
      },
      "execution_count": 13,
      "outputs": [
        {
          "output_type": "stream",
          "name": "stdout",
          "text": [
            "Epoch 1/30\n",
            "363/363 [==============================] - 2s 2ms/step - loss: 1.2551 - mean_absolute_error: 0.6336 - val_loss: 27.7086 - val_mean_absolute_error: 0.6922\n",
            "Epoch 2/30\n",
            "363/363 [==============================] - 1s 2ms/step - loss: 3.5740 - mean_absolute_error: 0.5690 - val_loss: 82.8121 - val_mean_absolute_error: 0.8224\n",
            "Epoch 3/30\n",
            "363/363 [==============================] - 1s 2ms/step - loss: 11.2329 - mean_absolute_error: 0.7065 - val_loss: 21.6194 - val_mean_absolute_error: 0.7605\n",
            "Epoch 4/30\n",
            "363/363 [==============================] - 1s 2ms/step - loss: 10.8134 - mean_absolute_error: 0.7337 - val_loss: 59.0353 - val_mean_absolute_error: 0.7513\n",
            "Epoch 5/30\n",
            "363/363 [==============================] - 1s 2ms/step - loss: 7.8032 - mean_absolute_error: 0.6755 - val_loss: 162.3018 - val_mean_absolute_error: 0.9107\n",
            "Epoch 6/30\n",
            "363/363 [==============================] - 1s 2ms/step - loss: 8.9078 - mean_absolute_error: 0.7142 - val_loss: 501.5945 - val_mean_absolute_error: 1.1940\n",
            "Epoch 7/30\n",
            "363/363 [==============================] - 1s 2ms/step - loss: 62.1201 - mean_absolute_error: 1.2444 - val_loss: 1446.1481 - val_mean_absolute_error: 1.9531\n",
            "Epoch 8/30\n",
            "363/363 [==============================] - 1s 2ms/step - loss: 174.6909 - mean_absolute_error: 1.7336 - val_loss: 4187.2632 - val_mean_absolute_error: 3.1445\n",
            "Epoch 9/30\n",
            "363/363 [==============================] - 1s 2ms/step - loss: nan - mean_absolute_error: nan - val_loss: nan - val_mean_absolute_error: nan\n",
            "Epoch 10/30\n",
            "363/363 [==============================] - 1s 1ms/step - loss: nan - mean_absolute_error: nan - val_loss: nan - val_mean_absolute_error: nan\n",
            "Epoch 11/30\n",
            "363/363 [==============================] - 1s 2ms/step - loss: nan - mean_absolute_error: nan - val_loss: nan - val_mean_absolute_error: nan\n",
            "Epoch 12/30\n",
            "363/363 [==============================] - 1s 1ms/step - loss: nan - mean_absolute_error: nan - val_loss: nan - val_mean_absolute_error: nan\n",
            "Epoch 13/30\n",
            "363/363 [==============================] - 1s 2ms/step - loss: nan - mean_absolute_error: nan - val_loss: nan - val_mean_absolute_error: nan\n",
            "Epoch 14/30\n",
            "363/363 [==============================] - 1s 2ms/step - loss: nan - mean_absolute_error: nan - val_loss: nan - val_mean_absolute_error: nan\n",
            "Epoch 15/30\n",
            "363/363 [==============================] - 1s 2ms/step - loss: nan - mean_absolute_error: nan - val_loss: nan - val_mean_absolute_error: nan\n",
            "Epoch 16/30\n",
            "363/363 [==============================] - 1s 2ms/step - loss: nan - mean_absolute_error: nan - val_loss: nan - val_mean_absolute_error: nan\n",
            "Epoch 17/30\n",
            "363/363 [==============================] - 1s 2ms/step - loss: nan - mean_absolute_error: nan - val_loss: nan - val_mean_absolute_error: nan\n",
            "Epoch 18/30\n",
            "363/363 [==============================] - 1s 2ms/step - loss: nan - mean_absolute_error: nan - val_loss: nan - val_mean_absolute_error: nan\n",
            "Epoch 19/30\n",
            "363/363 [==============================] - 1s 2ms/step - loss: nan - mean_absolute_error: nan - val_loss: nan - val_mean_absolute_error: nan\n",
            "Epoch 20/30\n",
            "363/363 [==============================] - 1s 1ms/step - loss: nan - mean_absolute_error: nan - val_loss: nan - val_mean_absolute_error: nan\n",
            "Epoch 21/30\n",
            "363/363 [==============================] - 1s 1ms/step - loss: nan - mean_absolute_error: nan - val_loss: nan - val_mean_absolute_error: nan\n",
            "Epoch 22/30\n",
            "363/363 [==============================] - 1s 2ms/step - loss: nan - mean_absolute_error: nan - val_loss: nan - val_mean_absolute_error: nan\n",
            "Epoch 23/30\n",
            "363/363 [==============================] - 1s 2ms/step - loss: nan - mean_absolute_error: nan - val_loss: nan - val_mean_absolute_error: nan\n",
            "Epoch 24/30\n",
            "363/363 [==============================] - 1s 2ms/step - loss: nan - mean_absolute_error: nan - val_loss: nan - val_mean_absolute_error: nan\n",
            "Epoch 25/30\n",
            "363/363 [==============================] - 1s 1ms/step - loss: nan - mean_absolute_error: nan - val_loss: nan - val_mean_absolute_error: nan\n",
            "Epoch 26/30\n",
            "363/363 [==============================] - 1s 2ms/step - loss: nan - mean_absolute_error: nan - val_loss: nan - val_mean_absolute_error: nan\n",
            "Epoch 27/30\n",
            "363/363 [==============================] - 1s 2ms/step - loss: nan - mean_absolute_error: nan - val_loss: nan - val_mean_absolute_error: nan\n",
            "Epoch 28/30\n",
            "363/363 [==============================] - 1s 1ms/step - loss: nan - mean_absolute_error: nan - val_loss: nan - val_mean_absolute_error: nan\n",
            "Epoch 29/30\n",
            "363/363 [==============================] - 1s 2ms/step - loss: nan - mean_absolute_error: nan - val_loss: nan - val_mean_absolute_error: nan\n",
            "Epoch 30/30\n",
            "363/363 [==============================] - 1s 2ms/step - loss: nan - mean_absolute_error: nan - val_loss: nan - val_mean_absolute_error: nan\n"
          ]
        },
        {
          "output_type": "execute_result",
          "data": {
            "text/plain": [
              "<keras.src.callbacks.History at 0x7d4e75414b20>"
            ]
          },
          "metadata": {},
          "execution_count": 13
        }
      ]
    },
    {
      "cell_type": "markdown",
      "source": [
        "#tensorboard"
      ],
      "metadata": {
        "id": "KXp0WqXaGtsG"
      }
    },
    {
      "cell_type": "code",
      "source": [
        "%load_ext tensorboard"
      ],
      "metadata": {
        "id": "uH1jhC7BHf83"
      },
      "execution_count": 14,
      "outputs": []
    },
    {
      "cell_type": "markdown",
      "source": [
        "# hyperparameter optimization session 32"
      ],
      "metadata": {
        "id": "1Kaqnz46t75A"
      }
    },
    {
      "cell_type": "code",
      "source": [
        "def ann_model(number_of_hidden_layers = 1,\n",
        "              number_of_neurons = 50,\n",
        "              lr = 0.01):\n",
        "  model = keras.models.Sequential()\n",
        "  model.add(keras.layers.Input_layer(input_shape=[8]))\n",
        "  # since we want to optimize the numbers we should go with for loop\n",
        "  # you can search for gridsearch CV or random searchCV\n",
        "  for hidden_layer in range(number_of_hidden_layers):\n",
        "    model.add(keras.Dense(number_of_neurons, activation = \"selu\"))\n",
        "  model.add(keras.layers.Dense(1)) # output layer\n",
        "  sgd = keras.optimizer.SGD(lr=lr) # age as mamuli entekhab mikardim nmitunestim opt konim\n",
        "  model.compile(loss=\"mse\", optimizer = sgd)\n",
        "  return model\n"
      ],
      "metadata": {
        "id": "Vi7ZwYPuuIsI"
      },
      "execution_count": 15,
      "outputs": []
    },
    {
      "cell_type": "markdown",
      "source": [
        "####the API has changed and it should be redeveloped please check out the following links. you should install the scikeras API and reinstall tensorflow"
      ],
      "metadata": {
        "id": "e0XYugJa7PZb"
      }
    },
    {
      "cell_type": "code",
      "source": [
        "\n",
        "# keras wrapper (search for it= https://faroit.com/keras-docs/1.0.6/scikit-learn-api/)\n",
        "# the above link is no longer valid try the following link instead\n",
        "# https://adriangb.com/scikeras/stable/generated/scikeras.wrappers.KerasRegressor.html\n",
        "# keras_sk_reg = tf.keras.wrappers.sklearn.KerasRegressor(build_fn = ann_model)\n",
        "# keras_sk_reg = KerasRegressor(model=ann_model)\n",
        "# keras_sk_reg = scikeras.wrappers.KerasRegressor(build_fn=ann_model)"
      ],
      "metadata": {
        "id": "AasEMasmybSq"
      },
      "execution_count": 30,
      "outputs": []
    },
    {
      "cell_type": "markdown",
      "source": [
        "# bing AI :"
      ],
      "metadata": {
        "id": "R82kNk8h14pN"
      }
    },
    {
      "cell_type": "code",
      "source": [
        "# I see that you are interested in using the SciKeras wrapper for KerasRegressor. This is a tool that allows you to use Keras models as scikit-learn estimators. Here is an example of how you can use it to create and train a simple neural network for regression:\n",
        "\n",
        "# Import the necessary modules\n",
        "# import numpy as np from sklearn.datasets import make_regression from sklearn.model_selection import train_test_split from tensorflow import keras from scikeras.wrappers import KerasRegressor\n",
        "\n",
        "# Define a function that returns a compiled Keras model\n",
        "# def ann_model(): model = keras.models.Sequential() model.add(keras.layers.Dense(16, activation=“relu”, input_shape=(10,))) model.add(keras.layers.Dense(8, activation=“relu”)) model.add(keras.layers.Dense(1)) model.compile(optimizer=“adam”, loss=“mean_squared_error”) return model\n",
        "\n",
        "# Generate some synthetic data for regression\n",
        "# X, y = make_regression(n_samples=1000, n_features=10, n_informative=5, noise=10, random_state=42) X_train, X_test, y_train, y_test = train_test_split(X, y, test_size=0.2, random_state=42)\n",
        "\n",
        "# Create and fit the KerasRegressor instance\n",
        "# reg = KerasRegressor(model=ann_model, epochs=100, batch_size=32, verbose=0) reg.fit(X_train, y_train)\n",
        "\n",
        "# Evaluate the model performance\n",
        "# score = reg.score(X_test, y_test) print(f\"R^2 score: {score:.4f}\")\n",
        "\n",
        "# Make predictions\n",
        "# y_pred = reg.predict(X_test)"
      ],
      "metadata": {
        "id": "aLA0joAt2Gsg"
      },
      "execution_count": null,
      "outputs": []
    },
    {
      "cell_type": "markdown",
      "source": [
        "## you can search for genetic algorithm keras optimizer"
      ],
      "metadata": {
        "id": "5fWk42Z6-I-9"
      }
    }
  ]
}