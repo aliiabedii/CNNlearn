{
  "nbformat": 4,
  "nbformat_minor": 0,
  "metadata": {
    "colab": {
      "provenance": [],
      "authorship_tag": "ABX9TyNRwepuNQ2BggcQP9u+1SmD",
      "include_colab_link": true
    },
    "kernelspec": {
      "name": "python3",
      "display_name": "Python 3"
    },
    "language_info": {
      "name": "python"
    }
  },
  "cells": [
    {
      "cell_type": "markdown",
      "metadata": {
        "id": "view-in-github",
        "colab_type": "text"
      },
      "source": [
        "<a href=\"https://colab.research.google.com/github/aliiabedii/CNNlearn/blob/main/maktabkhooneh_ch2_02.ipynb\" target=\"_parent\"><img src=\"https://colab.research.google.com/assets/colab-badge.svg\" alt=\"Open In Colab\"/></a>"
      ]
    },
    {
      "cell_type": "code",
      "execution_count": null,
      "metadata": {
        "id": "g52r5sdK1wcC"
      },
      "outputs": [],
      "source": [
        "import tensorflow as tf\n",
        "from tensorflow import keras\n",
        "from sklearn.datasets import fetch_california_housing\n",
        "from sklearn.model_selection import train_test_split\n",
        "from sklearn.preprocessing import StandardScaler\n",
        "\n",
        "\n",
        "import matplotlib.pyplot as plt\n",
        "import numpy as np"
      ]
    },
    {
      "cell_type": "markdown",
      "source": [
        "split data into train and test"
      ],
      "metadata": {
        "id": "zgNN_dcn51dw"
      }
    },
    {
      "cell_type": "code",
      "source": [
        "california_housing = fetch_california_housing()\n",
        "X_train0, X_test, y_train0, y_train = train_test_split(\n",
        "                          california_housing[\"data\"],\n",
        "                          california_housing[\"target\"])\n"
      ],
      "metadata": {
        "id": "MYUHYObo3gtm"
      },
      "execution_count": null,
      "outputs": []
    },
    {
      "cell_type": "markdown",
      "source": [
        "split train data into traindata and validation"
      ],
      "metadata": {
        "id": "zHmgLIiv5vVt"
      }
    },
    {
      "cell_type": "code",
      "source": [
        "california_housing = fetch_california_housing()\n",
        "X_train1, X_validation, y_train1, y_validation = train_test_split(\n",
        "                          X_train0,\n",
        "                          y_train0)"
      ],
      "metadata": {
        "id": "OBCiBeM9309R"
      },
      "execution_count": null,
      "outputs": []
    },
    {
      "cell_type": "code",
      "source": [
        "X_test.shape\n",
        "X_train0.shape\n",
        "X_train1.shape"
      ],
      "metadata": {
        "colab": {
          "base_uri": "https://localhost:8080/"
        },
        "id": "iyeck3X85QEe",
        "outputId": "64712b0c-e7cc-4c3a-856b-884736cc9ed0"
      },
      "execution_count": null,
      "outputs": [
        {
          "output_type": "execute_result",
          "data": {
            "text/plain": [
              "(11610, 8)"
            ]
          },
          "metadata": {},
          "execution_count": 13
        }
      ]
    },
    {
      "cell_type": "code",
      "source": [
        "sc = StandardScaler()\n",
        "X_train_s = sc.fit_transform(X_train1)\n",
        "X_validation_s = sc.transform(X_validation)\n",
        "X_test_s = sc.transform(X_test)\n"
      ],
      "metadata": {
        "id": "S95k-1d56Ef9"
      },
      "execution_count": null,
      "outputs": []
    },
    {
      "cell_type": "markdown",
      "source": [
        "define layers an neurons"
      ],
      "metadata": {
        "id": "8LJo5xdS_RfF"
      }
    },
    {
      "cell_type": "code",
      "source": [
        "model = keras.models.Sequential([\n",
        "    keras.layers.Dense(50,activation = \"relu\"),\n",
        "    keras.layers.Dense(10,activation = \"relu\"),\n",
        "    keras.layers.Dense(1)\n",
        "])"
      ],
      "metadata": {
        "id": "0fX3pvqf-SNS"
      },
      "execution_count": null,
      "outputs": []
    },
    {
      "cell_type": "markdown",
      "source": [
        "complie the model"
      ],
      "metadata": {
        "id": "oD6hjGae_Z3G"
      }
    },
    {
      "cell_type": "code",
      "source": [
        "model.compile(loss=\"mean_squared_error\",\n",
        "              optimizer = \"sgd\",\n",
        "              metrics=[\"mean_absolute_error\"])"
      ],
      "metadata": {
        "id": "ROzBRNfq_dpS"
      },
      "execution_count": null,
      "outputs": []
    },
    {
      "cell_type": "code",
      "source": [
        "model.fit(X_train_s, y_train1,\n",
        "          epochs=30, validation_data=(X_validation_s, y_validation)\n",
        "\n",
        ")"
      ],
      "metadata": {
        "colab": {
          "base_uri": "https://localhost:8080/"
        },
        "id": "K-g1IHIXAY_j",
        "outputId": "6df3fb1c-ec8b-4769-ef8d-961c897ca898"
      },
      "execution_count": null,
      "outputs": [
        {
          "output_type": "stream",
          "name": "stdout",
          "text": [
            "Epoch 1/30\n",
            "363/363 [==============================] - 2s 4ms/step - loss: 0.8190 - mean_absolute_error: 0.6064 - val_loss: 0.4819 - val_mean_absolute_error: 0.4983\n",
            "Epoch 2/30\n",
            "363/363 [==============================] - 1s 3ms/step - loss: 0.4512 - mean_absolute_error: 0.4865 - val_loss: 0.4390 - val_mean_absolute_error: 0.4807\n",
            "Epoch 3/30\n",
            "363/363 [==============================] - 1s 3ms/step - loss: 0.4226 - mean_absolute_error: 0.4714 - val_loss: 0.4136 - val_mean_absolute_error: 0.4570\n",
            "Epoch 4/30\n",
            "363/363 [==============================] - 1s 3ms/step - loss: 0.4070 - mean_absolute_error: 0.4599 - val_loss: 0.4058 - val_mean_absolute_error: 0.4600\n",
            "Epoch 5/30\n",
            "363/363 [==============================] - 1s 2ms/step - loss: 0.3918 - mean_absolute_error: 0.4509 - val_loss: 0.4042 - val_mean_absolute_error: 0.4568\n",
            "Epoch 6/30\n",
            "363/363 [==============================] - 1s 3ms/step - loss: 0.3823 - mean_absolute_error: 0.4441 - val_loss: 0.3877 - val_mean_absolute_error: 0.4339\n",
            "Epoch 7/30\n",
            "363/363 [==============================] - 1s 2ms/step - loss: 0.3744 - mean_absolute_error: 0.4395 - val_loss: 0.3991 - val_mean_absolute_error: 0.4429\n",
            "Epoch 8/30\n",
            "363/363 [==============================] - 1s 3ms/step - loss: 0.3693 - mean_absolute_error: 0.4358 - val_loss: 0.6773 - val_mean_absolute_error: 0.5239\n",
            "Epoch 9/30\n",
            "363/363 [==============================] - 1s 3ms/step - loss: 0.3654 - mean_absolute_error: 0.4332 - val_loss: 0.3836 - val_mean_absolute_error: 0.4296\n",
            "Epoch 10/30\n",
            "363/363 [==============================] - 1s 2ms/step - loss: 0.3570 - mean_absolute_error: 0.4276 - val_loss: 0.3807 - val_mean_absolute_error: 0.4402\n",
            "Epoch 11/30\n",
            "363/363 [==============================] - 1s 2ms/step - loss: 0.3525 - mean_absolute_error: 0.4241 - val_loss: 0.3749 - val_mean_absolute_error: 0.4395\n",
            "Epoch 12/30\n",
            "363/363 [==============================] - 1s 3ms/step - loss: 0.3481 - mean_absolute_error: 0.4215 - val_loss: 0.3614 - val_mean_absolute_error: 0.4228\n",
            "Epoch 13/30\n",
            "363/363 [==============================] - 1s 3ms/step - loss: 0.3455 - mean_absolute_error: 0.4201 - val_loss: 0.3775 - val_mean_absolute_error: 0.4270\n",
            "Epoch 14/30\n",
            "363/363 [==============================] - 1s 3ms/step - loss: 0.3412 - mean_absolute_error: 0.4172 - val_loss: 0.3568 - val_mean_absolute_error: 0.4256\n",
            "Epoch 15/30\n",
            "363/363 [==============================] - 1s 3ms/step - loss: 0.3374 - mean_absolute_error: 0.4141 - val_loss: 0.3552 - val_mean_absolute_error: 0.4096\n",
            "Epoch 16/30\n",
            "363/363 [==============================] - 1s 4ms/step - loss: 0.3369 - mean_absolute_error: 0.4133 - val_loss: 0.3534 - val_mean_absolute_error: 0.4202\n",
            "Epoch 17/30\n",
            "363/363 [==============================] - 1s 4ms/step - loss: 0.3294 - mean_absolute_error: 0.4088 - val_loss: 0.3461 - val_mean_absolute_error: 0.4143\n",
            "Epoch 18/30\n",
            "363/363 [==============================] - 1s 3ms/step - loss: 0.3256 - mean_absolute_error: 0.4048 - val_loss: 0.3452 - val_mean_absolute_error: 0.4089\n",
            "Epoch 19/30\n",
            "363/363 [==============================] - 1s 3ms/step - loss: 0.3232 - mean_absolute_error: 0.4036 - val_loss: 0.3438 - val_mean_absolute_error: 0.4127\n",
            "Epoch 20/30\n",
            "363/363 [==============================] - 1s 3ms/step - loss: 0.3217 - mean_absolute_error: 0.4019 - val_loss: 0.3397 - val_mean_absolute_error: 0.4004\n",
            "Epoch 21/30\n",
            "363/363 [==============================] - 1s 2ms/step - loss: 0.3169 - mean_absolute_error: 0.3989 - val_loss: 0.3549 - val_mean_absolute_error: 0.4215\n",
            "Epoch 22/30\n",
            "363/363 [==============================] - 1s 2ms/step - loss: 0.3166 - mean_absolute_error: 0.3988 - val_loss: 0.3373 - val_mean_absolute_error: 0.4000\n",
            "Epoch 23/30\n",
            "363/363 [==============================] - 1s 2ms/step - loss: 0.3175 - mean_absolute_error: 0.3965 - val_loss: 0.3449 - val_mean_absolute_error: 0.4217\n",
            "Epoch 24/30\n",
            "363/363 [==============================] - 1s 2ms/step - loss: 0.3123 - mean_absolute_error: 0.3956 - val_loss: 0.3322 - val_mean_absolute_error: 0.3975\n",
            "Epoch 25/30\n",
            "363/363 [==============================] - 1s 2ms/step - loss: 0.3179 - mean_absolute_error: 0.3966 - val_loss: 0.3320 - val_mean_absolute_error: 0.4061\n",
            "Epoch 26/30\n",
            "363/363 [==============================] - 1s 2ms/step - loss: 0.3107 - mean_absolute_error: 0.3941 - val_loss: 0.3836 - val_mean_absolute_error: 0.4161\n",
            "Epoch 27/30\n",
            "363/363 [==============================] - 1s 2ms/step - loss: 0.3090 - mean_absolute_error: 0.3929 - val_loss: 0.3264 - val_mean_absolute_error: 0.3913\n",
            "Epoch 28/30\n",
            "363/363 [==============================] - 1s 2ms/step - loss: 0.3068 - mean_absolute_error: 0.3912 - val_loss: 0.3332 - val_mean_absolute_error: 0.4038\n",
            "Epoch 29/30\n",
            "363/363 [==============================] - 1s 2ms/step - loss: 0.3062 - mean_absolute_error: 0.3910 - val_loss: 0.3482 - val_mean_absolute_error: 0.4236\n",
            "Epoch 30/30\n",
            "363/363 [==============================] - 1s 3ms/step - loss: 0.3044 - mean_absolute_error: 0.3886 - val_loss: 0.3277 - val_mean_absolute_error: 0.3989\n"
          ]
        },
        {
          "output_type": "execute_result",
          "data": {
            "text/plain": [
              "<keras.src.callbacks.History at 0x7fd52e570820>"
            ]
          },
          "metadata": {},
          "execution_count": 32
        }
      ]
    }
  ]
}