{
  "nbformat": 4,
  "nbformat_minor": 0,
  "metadata": {
    "colab": {
      "provenance": [],
      "authorship_tag": "ABX9TyMfKLDo0v4Z/5zrdAUlwaGh",
      "include_colab_link": true
    },
    "kernelspec": {
      "name": "python3",
      "display_name": "Python 3"
    },
    "language_info": {
      "name": "python"
    }
  },
  "cells": [
    {
      "cell_type": "markdown",
      "metadata": {
        "id": "view-in-github",
        "colab_type": "text"
      },
      "source": [
        "<a href=\"https://colab.research.google.com/github/aliiabedii/CNNlearn/blob/main/maktabkhooneh_ch2_02.ipynb\" target=\"_parent\"><img src=\"https://colab.research.google.com/assets/colab-badge.svg\" alt=\"Open In Colab\"/></a>"
      ]
    },
    {
      "cell_type": "code",
      "execution_count": 32,
      "metadata": {
        "id": "g52r5sdK1wcC"
      },
      "outputs": [],
      "source": [
        "import tensorflow as tf\n",
        "from tensorflow import keras\n",
        "from sklearn.datasets import fetch_california_housing\n",
        "from sklearn.model_selection import train_test_split\n",
        "from sklearn.preprocessing import StandardScaler\n",
        "\n",
        "\n",
        "import matplotlib.pyplot as plt\n",
        "import numpy as np"
      ]
    },
    {
      "cell_type": "markdown",
      "source": [
        "split data into train and test"
      ],
      "metadata": {
        "id": "zgNN_dcn51dw"
      }
    },
    {
      "cell_type": "code",
      "source": [
        "california_housing = fetch_california_housing()\n",
        "X_train0, X_test, y_train0, y_train = train_test_split(\n",
        "                          california_housing[\"data\"],\n",
        "                          california_housing[\"target\"])\n"
      ],
      "metadata": {
        "id": "MYUHYObo3gtm"
      },
      "execution_count": 33,
      "outputs": []
    },
    {
      "cell_type": "markdown",
      "source": [
        "split train data into traindata and validation"
      ],
      "metadata": {
        "id": "zHmgLIiv5vVt"
      }
    },
    {
      "cell_type": "code",
      "source": [
        "california_housing = fetch_california_housing()\n",
        "X_train1, X_validation, y_train1, y_validation = train_test_split(\n",
        "                          X_train0,\n",
        "                          y_train0)"
      ],
      "metadata": {
        "id": "OBCiBeM9309R"
      },
      "execution_count": 34,
      "outputs": []
    },
    {
      "cell_type": "code",
      "source": [
        "X_test.shape\n",
        "X_train0.shape\n",
        "X_train1.shape"
      ],
      "metadata": {
        "colab": {
          "base_uri": "https://localhost:8080/"
        },
        "id": "iyeck3X85QEe",
        "outputId": "b3c510fe-4e93-48e9-bfe0-70f941f2b075"
      },
      "execution_count": 35,
      "outputs": [
        {
          "output_type": "execute_result",
          "data": {
            "text/plain": [
              "(11610, 8)"
            ]
          },
          "metadata": {},
          "execution_count": 35
        }
      ]
    },
    {
      "cell_type": "code",
      "source": [
        "sc = StandardScaler()\n",
        "X_train_s = sc.fit_transform(X_train1)\n",
        "X_validation_s = sc.transform(X_validation)\n",
        "X_test_s = sc.transform(X_test)\n"
      ],
      "metadata": {
        "id": "S95k-1d56Ef9"
      },
      "execution_count": 36,
      "outputs": []
    },
    {
      "cell_type": "markdown",
      "source": [
        "define layers an neurons"
      ],
      "metadata": {
        "id": "8LJo5xdS_RfF"
      }
    },
    {
      "cell_type": "code",
      "source": [
        "model = keras.models.Sequential([\n",
        "    keras.layers.Dense(50,activation = \"relu\"),\n",
        "    keras.layers.Dense(10,activation = \"relu\"),\n",
        "    keras.layers.Dense(1)\n",
        "])"
      ],
      "metadata": {
        "id": "0fX3pvqf-SNS"
      },
      "execution_count": 37,
      "outputs": []
    },
    {
      "cell_type": "markdown",
      "source": [
        "complie the model"
      ],
      "metadata": {
        "id": "oD6hjGae_Z3G"
      }
    },
    {
      "cell_type": "code",
      "source": [
        "model.compile(loss=\"mean_squared_error\",\n",
        "              optimizer = \"sgd\",\n",
        "              metrics=[\"mean_absolute_error\"])"
      ],
      "metadata": {
        "id": "ROzBRNfq_dpS"
      },
      "execution_count": 38,
      "outputs": []
    },
    {
      "cell_type": "code",
      "source": [
        "model.fit(X_train_s, y_train1,\n",
        "          epochs=30, validation_data=(X_validation_s, y_validation)\n",
        "\n",
        ")"
      ],
      "metadata": {
        "colab": {
          "base_uri": "https://localhost:8080/"
        },
        "id": "K-g1IHIXAY_j",
        "outputId": "71549cfa-a664-4429-d640-da1d7f85ee0a"
      },
      "execution_count": 39,
      "outputs": [
        {
          "output_type": "stream",
          "name": "stdout",
          "text": [
            "Epoch 1/30\n",
            "363/363 [==============================] - 1s 2ms/step - loss: 0.7015 - mean_absolute_error: 0.5971 - val_loss: 0.4766 - val_mean_absolute_error: 0.5063\n",
            "Epoch 2/30\n",
            "363/363 [==============================] - 1s 3ms/step - loss: 0.4575 - mean_absolute_error: 0.4817 - val_loss: 0.4307 - val_mean_absolute_error: 0.4735\n",
            "Epoch 3/30\n",
            "363/363 [==============================] - 1s 3ms/step - loss: 0.4293 - mean_absolute_error: 0.4656 - val_loss: 0.4166 - val_mean_absolute_error: 0.4685\n",
            "Epoch 4/30\n",
            "363/363 [==============================] - 1s 4ms/step - loss: 0.4156 - mean_absolute_error: 0.4582 - val_loss: 0.4038 - val_mean_absolute_error: 0.4459\n",
            "Epoch 5/30\n",
            "363/363 [==============================] - 1s 3ms/step - loss: 0.4038 - mean_absolute_error: 0.4492 - val_loss: 0.3952 - val_mean_absolute_error: 0.4456\n",
            "Epoch 6/30\n",
            "363/363 [==============================] - 1s 2ms/step - loss: 0.3963 - mean_absolute_error: 0.4439 - val_loss: 0.3862 - val_mean_absolute_error: 0.4388\n",
            "Epoch 7/30\n",
            "363/363 [==============================] - 1s 3ms/step - loss: 0.3892 - mean_absolute_error: 0.4396 - val_loss: 0.3756 - val_mean_absolute_error: 0.4409\n",
            "Epoch 8/30\n",
            "363/363 [==============================] - 1s 3ms/step - loss: 0.3831 - mean_absolute_error: 0.4346 - val_loss: 0.3760 - val_mean_absolute_error: 0.4333\n",
            "Epoch 9/30\n",
            "363/363 [==============================] - 1s 2ms/step - loss: 0.3782 - mean_absolute_error: 0.4323 - val_loss: 0.3659 - val_mean_absolute_error: 0.4274\n",
            "Epoch 10/30\n",
            "363/363 [==============================] - 1s 3ms/step - loss: 0.3730 - mean_absolute_error: 0.4277 - val_loss: 0.3619 - val_mean_absolute_error: 0.4287\n",
            "Epoch 11/30\n",
            "363/363 [==============================] - 1s 3ms/step - loss: 0.3679 - mean_absolute_error: 0.4259 - val_loss: 0.3623 - val_mean_absolute_error: 0.4212\n",
            "Epoch 12/30\n",
            "363/363 [==============================] - 1s 2ms/step - loss: 0.3627 - mean_absolute_error: 0.4211 - val_loss: 0.3526 - val_mean_absolute_error: 0.4269\n",
            "Epoch 13/30\n",
            "363/363 [==============================] - 1s 2ms/step - loss: 0.3596 - mean_absolute_error: 0.4200 - val_loss: 0.3641 - val_mean_absolute_error: 0.4332\n",
            "Epoch 14/30\n",
            "363/363 [==============================] - 1s 3ms/step - loss: 0.3547 - mean_absolute_error: 0.4174 - val_loss: 0.3512 - val_mean_absolute_error: 0.4261\n",
            "Epoch 15/30\n",
            "363/363 [==============================] - 1s 2ms/step - loss: 0.3509 - mean_absolute_error: 0.4148 - val_loss: 0.3417 - val_mean_absolute_error: 0.4143\n",
            "Epoch 16/30\n",
            "363/363 [==============================] - 1s 3ms/step - loss: 0.3461 - mean_absolute_error: 0.4122 - val_loss: 0.3475 - val_mean_absolute_error: 0.4153\n",
            "Epoch 17/30\n",
            "363/363 [==============================] - 1s 3ms/step - loss: 0.3428 - mean_absolute_error: 0.4093 - val_loss: 0.3323 - val_mean_absolute_error: 0.4193\n",
            "Epoch 18/30\n",
            "363/363 [==============================] - 1s 3ms/step - loss: 0.3395 - mean_absolute_error: 0.4079 - val_loss: 0.3469 - val_mean_absolute_error: 0.4358\n",
            "Epoch 19/30\n",
            "363/363 [==============================] - 1s 3ms/step - loss: 0.3361 - mean_absolute_error: 0.4050 - val_loss: 0.3310 - val_mean_absolute_error: 0.4081\n",
            "Epoch 20/30\n",
            "363/363 [==============================] - 1s 3ms/step - loss: 0.3338 - mean_absolute_error: 0.4028 - val_loss: 0.3340 - val_mean_absolute_error: 0.4059\n",
            "Epoch 21/30\n",
            "363/363 [==============================] - 1s 2ms/step - loss: 0.3328 - mean_absolute_error: 0.4030 - val_loss: 0.3299 - val_mean_absolute_error: 0.3956\n",
            "Epoch 22/30\n",
            "363/363 [==============================] - 1s 3ms/step - loss: 0.3303 - mean_absolute_error: 0.4009 - val_loss: 0.3246 - val_mean_absolute_error: 0.4025\n",
            "Epoch 23/30\n",
            "363/363 [==============================] - 1s 2ms/step - loss: 0.3279 - mean_absolute_error: 0.3992 - val_loss: 0.3240 - val_mean_absolute_error: 0.3986\n",
            "Epoch 24/30\n",
            "363/363 [==============================] - 1s 3ms/step - loss: 0.3274 - mean_absolute_error: 0.3985 - val_loss: 0.3239 - val_mean_absolute_error: 0.3947\n",
            "Epoch 25/30\n",
            "363/363 [==============================] - 1s 2ms/step - loss: 0.3257 - mean_absolute_error: 0.3972 - val_loss: 0.3158 - val_mean_absolute_error: 0.4049\n",
            "Epoch 26/30\n",
            "363/363 [==============================] - 1s 3ms/step - loss: 0.3207 - mean_absolute_error: 0.3968 - val_loss: 0.3180 - val_mean_absolute_error: 0.3944\n",
            "Epoch 27/30\n",
            "363/363 [==============================] - 1s 2ms/step - loss: 0.3207 - mean_absolute_error: 0.3942 - val_loss: 0.3165 - val_mean_absolute_error: 0.3945\n",
            "Epoch 28/30\n",
            "363/363 [==============================] - 1s 2ms/step - loss: 0.3202 - mean_absolute_error: 0.3930 - val_loss: 0.3092 - val_mean_absolute_error: 0.3914\n",
            "Epoch 29/30\n",
            "363/363 [==============================] - 1s 2ms/step - loss: 0.3181 - mean_absolute_error: 0.3924 - val_loss: 0.3159 - val_mean_absolute_error: 0.4071\n",
            "Epoch 30/30\n",
            "363/363 [==============================] - 1s 2ms/step - loss: 0.3170 - mean_absolute_error: 0.3911 - val_loss: 0.3306 - val_mean_absolute_error: 0.4206\n"
          ]
        },
        {
          "output_type": "execute_result",
          "data": {
            "text/plain": [
              "<keras.src.callbacks.History at 0x7d7661b0de10>"
            ]
          },
          "metadata": {},
          "execution_count": 39
        }
      ]
    },
    {
      "cell_type": "markdown",
      "source": [
        "# functional API"
      ],
      "metadata": {
        "id": "F_ekmKjgNfpU"
      }
    },
    {
      "cell_type": "code",
      "source": [
        "X_train0.shape[1:]"
      ],
      "metadata": {
        "colab": {
          "base_uri": "https://localhost:8080/"
        },
        "id": "crPgc5PARlwO",
        "outputId": "24874d60-7c6d-45de-f960-f757bca06501"
      },
      "execution_count": 40,
      "outputs": [
        {
          "output_type": "execute_result",
          "data": {
            "text/plain": [
              "(8,)"
            ]
          },
          "metadata": {},
          "execution_count": 40
        }
      ]
    },
    {
      "cell_type": "code",
      "source": [
        "X_train_s_1, X_train_s_2 = X_train_s[:,:6],X_train_s[:, -4:]\n",
        "X_validation_s_1, X_validation_s_2 = X_validation_s[:,:6],X_validation_s[:,-4:]\n",
        "X_test_s_1, X_test_s_2 = X_test_s[:,:6],X_test_s[:,-4:]\n"
      ],
      "metadata": {
        "id": "jaqVtDP5gtto"
      },
      "execution_count": 54,
      "outputs": []
    },
    {
      "cell_type": "markdown",
      "source": [],
      "metadata": {
        "id": "9wJ91IWIiQOK"
      }
    },
    {
      "cell_type": "code",
      "source": [
        "input_1 = tf.keras.layers.Input(shape=[6])\n",
        "input_2 = tf.keras.layers.Input(shape=[4])\n",
        "hidden_layer1 = tf.keras.layers.Dense(50, activation=\"relu\")(input_1)\n",
        "hidden_layer2 = tf.keras.layers.Dense(10, activation=\"relu\")(hidden_layer1)\n",
        "concatinate_layer = tf.keras.layers.Concatenate()([input_2, hidden_layer2])\n",
        "output = tf.keras.layers.Dense(1)(concatinate_layer)\n",
        "model = tf.keras.Model(inputs = [input_1,input_2],outputs=[output])"
      ],
      "metadata": {
        "id": "OJB2T1FYNfkZ"
      },
      "execution_count": 55,
      "outputs": []
    },
    {
      "cell_type": "code",
      "source": [
        "model.compile(loss=\"mean_squared_error\",\n",
        "              optimizer = \"sgd\",\n",
        "              metrics=[\"mean_absolute_error\"])"
      ],
      "metadata": {
        "id": "N4LC3b4xbCwA"
      },
      "execution_count": 56,
      "outputs": []
    },
    {
      "cell_type": "code",
      "source": [
        "model.fit((X_train_s_1,X_train_s_2), y_train1,\n",
        "          epochs=30, validation_data=((X_validation_s_1,X_validation_s_2), y_validation))"
      ],
      "metadata": {
        "colab": {
          "base_uri": "https://localhost:8080/"
        },
        "id": "AtLXeRbVbG0V",
        "outputId": "6d5f5228-7ce0-43ce-f708-9f936c377bfc"
      },
      "execution_count": 57,
      "outputs": [
        {
          "output_type": "stream",
          "name": "stdout",
          "text": [
            "Epoch 1/30\n",
            "363/363 [==============================] - 1s 3ms/step - loss: 0.7566 - mean_absolute_error: 0.6115 - val_loss: 0.5329 - val_mean_absolute_error: 0.5319\n",
            "Epoch 2/30\n",
            "363/363 [==============================] - 1s 2ms/step - loss: 0.5449 - mean_absolute_error: 0.5124 - val_loss: 0.4742 - val_mean_absolute_error: 0.5055\n",
            "Epoch 3/30\n",
            "363/363 [==============================] - 1s 2ms/step - loss: 0.5077 - mean_absolute_error: 0.5015 - val_loss: 0.4705 - val_mean_absolute_error: 0.5007\n",
            "Epoch 4/30\n",
            "363/363 [==============================] - 1s 2ms/step - loss: 0.9537 - mean_absolute_error: 0.5002 - val_loss: 0.4580 - val_mean_absolute_error: 0.4813\n",
            "Epoch 5/30\n",
            "363/363 [==============================] - 1s 2ms/step - loss: 0.4413 - mean_absolute_error: 0.4797 - val_loss: 0.4350 - val_mean_absolute_error: 0.4806\n",
            "Epoch 6/30\n",
            "363/363 [==============================] - 1s 2ms/step - loss: 0.4306 - mean_absolute_error: 0.4710 - val_loss: 0.4278 - val_mean_absolute_error: 0.4710\n",
            "Epoch 7/30\n",
            "363/363 [==============================] - 1s 2ms/step - loss: 0.4249 - mean_absolute_error: 0.4672 - val_loss: 0.4188 - val_mean_absolute_error: 0.4811\n",
            "Epoch 8/30\n",
            "363/363 [==============================] - 1s 2ms/step - loss: 0.4704 - mean_absolute_error: 0.4689 - val_loss: 0.4061 - val_mean_absolute_error: 0.4620\n",
            "Epoch 9/30\n",
            "363/363 [==============================] - 1s 3ms/step - loss: 0.4074 - mean_absolute_error: 0.4594 - val_loss: 0.4002 - val_mean_absolute_error: 0.4561\n",
            "Epoch 10/30\n",
            "363/363 [==============================] - 1s 3ms/step - loss: 0.4115 - mean_absolute_error: 0.4568 - val_loss: 0.4041 - val_mean_absolute_error: 0.4527\n",
            "Epoch 11/30\n",
            "363/363 [==============================] - 1s 4ms/step - loss: 0.3946 - mean_absolute_error: 0.4519 - val_loss: 0.4182 - val_mean_absolute_error: 0.4842\n",
            "Epoch 12/30\n",
            "363/363 [==============================] - 1s 3ms/step - loss: 0.4042 - mean_absolute_error: 0.4509 - val_loss: 0.3840 - val_mean_absolute_error: 0.4455\n",
            "Epoch 13/30\n",
            "363/363 [==============================] - 1s 2ms/step - loss: 0.3862 - mean_absolute_error: 0.4480 - val_loss: 0.4236 - val_mean_absolute_error: 0.4634\n",
            "Epoch 14/30\n",
            "363/363 [==============================] - 1s 3ms/step - loss: 0.3901 - mean_absolute_error: 0.4465 - val_loss: 0.3793 - val_mean_absolute_error: 0.4488\n",
            "Epoch 15/30\n",
            "363/363 [==============================] - 1s 2ms/step - loss: 0.3837 - mean_absolute_error: 0.4449 - val_loss: 0.3779 - val_mean_absolute_error: 0.4519\n",
            "Epoch 16/30\n",
            "363/363 [==============================] - 1s 2ms/step - loss: 0.3781 - mean_absolute_error: 0.4441 - val_loss: 0.3702 - val_mean_absolute_error: 0.4387\n",
            "Epoch 17/30\n",
            "363/363 [==============================] - 1s 2ms/step - loss: 0.3780 - mean_absolute_error: 0.4416 - val_loss: 0.3706 - val_mean_absolute_error: 0.4432\n",
            "Epoch 18/30\n",
            "363/363 [==============================] - 1s 3ms/step - loss: 0.3740 - mean_absolute_error: 0.4401 - val_loss: 0.3759 - val_mean_absolute_error: 0.4563\n",
            "Epoch 19/30\n",
            "363/363 [==============================] - 1s 3ms/step - loss: 0.3737 - mean_absolute_error: 0.4397 - val_loss: 0.3682 - val_mean_absolute_error: 0.4463\n",
            "Epoch 20/30\n",
            "363/363 [==============================] - 1s 3ms/step - loss: 0.3710 - mean_absolute_error: 0.4392 - val_loss: 0.3667 - val_mean_absolute_error: 0.4453\n",
            "Epoch 21/30\n",
            "363/363 [==============================] - 1s 2ms/step - loss: 0.3719 - mean_absolute_error: 0.4396 - val_loss: 0.3638 - val_mean_absolute_error: 0.4404\n",
            "Epoch 22/30\n",
            "363/363 [==============================] - 1s 2ms/step - loss: 0.3822 - mean_absolute_error: 0.4396 - val_loss: 0.3698 - val_mean_absolute_error: 0.4368\n",
            "Epoch 23/30\n",
            "363/363 [==============================] - 1s 2ms/step - loss: 0.3870 - mean_absolute_error: 0.4393 - val_loss: 0.3958 - val_mean_absolute_error: 0.4418\n",
            "Epoch 24/30\n",
            "363/363 [==============================] - 1s 3ms/step - loss: 0.3773 - mean_absolute_error: 0.4389 - val_loss: 0.3700 - val_mean_absolute_error: 0.4439\n",
            "Epoch 25/30\n",
            "363/363 [==============================] - 1s 3ms/step - loss: 0.3800 - mean_absolute_error: 0.4379 - val_loss: 0.3599 - val_mean_absolute_error: 0.4334\n",
            "Epoch 26/30\n",
            "363/363 [==============================] - 1s 3ms/step - loss: 0.3671 - mean_absolute_error: 0.4365 - val_loss: 0.3663 - val_mean_absolute_error: 0.4367\n",
            "Epoch 27/30\n",
            "363/363 [==============================] - 1s 3ms/step - loss: 0.3644 - mean_absolute_error: 0.4343 - val_loss: 0.3602 - val_mean_absolute_error: 0.4335\n",
            "Epoch 28/30\n",
            "363/363 [==============================] - 1s 3ms/step - loss: 0.3638 - mean_absolute_error: 0.4350 - val_loss: 0.3684 - val_mean_absolute_error: 0.4418\n",
            "Epoch 29/30\n",
            "363/363 [==============================] - 1s 2ms/step - loss: 0.3637 - mean_absolute_error: 0.4333 - val_loss: 0.3626 - val_mean_absolute_error: 0.4388\n",
            "Epoch 30/30\n",
            "363/363 [==============================] - 1s 2ms/step - loss: 0.3810 - mean_absolute_error: 0.4354 - val_loss: 0.3683 - val_mean_absolute_error: 0.4305\n"
          ]
        },
        {
          "output_type": "execute_result",
          "data": {
            "text/plain": [
              "<keras.src.callbacks.History at 0x7d76616a54b0>"
            ]
          },
          "metadata": {},
          "execution_count": 57
        }
      ]
    }
  ]
}